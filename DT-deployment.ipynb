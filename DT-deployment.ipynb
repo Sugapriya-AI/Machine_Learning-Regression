{
 "cells": [
  {
   "cell_type": "code",
   "execution_count": 1,
   "id": "678bffec-9068-49d1-94e4-20ce78cd5497",
   "metadata": {},
   "outputs": [],
   "source": [
    "import pickle"
   ]
  },
  {
   "cell_type": "code",
   "execution_count": 2,
   "id": "862201e8-b175-4917-b83d-a18224a3374e",
   "metadata": {},
   "outputs": [],
   "source": [
    "import pandas as pd"
   ]
  },
  {
   "cell_type": "code",
   "execution_count": 3,
   "id": "0591ea5b-2b68-48dc-87a2-79eb1bd59dd4",
   "metadata": {},
   "outputs": [],
   "source": [
    "# LOAD THE SAVED MODEL\n",
    "loaded_model=pickle.load(open(\"Finalized_model-DT.sav\", 'rb'))\n",
    "input_data = pd.DataFrame({ 'R&D Spend': [1234], 'Administration': [345], 'Marketing Spend': [4565], 'State_Florida': [1], 'State_New York': [0]})\n",
    "result = loaded_model.predict(input_data)"
   ]
  },
  {
   "cell_type": "code",
   "execution_count": 4,
   "id": "64b058df-35e2-4315-9928-8770f3509074",
   "metadata": {},
   "outputs": [
    {
     "data": {
      "text/plain": [
       "array([49490.75])"
      ]
     },
     "execution_count": 4,
     "metadata": {},
     "output_type": "execute_result"
    }
   ],
   "source": [
    "result"
   ]
  },
  {
   "cell_type": "code",
   "execution_count": null,
   "id": "074ff213-b2b8-4200-a434-84b4178f2a9b",
   "metadata": {},
   "outputs": [],
   "source": []
  }
 ],
 "metadata": {
  "kernelspec": {
   "display_name": "Python [conda env:base] *",
   "language": "python",
   "name": "conda-base-py"
  },
  "language_info": {
   "codemirror_mode": {
    "name": "ipython",
    "version": 3
   },
   "file_extension": ".py",
   "mimetype": "text/x-python",
   "name": "python",
   "nbconvert_exporter": "python",
   "pygments_lexer": "ipython3",
   "version": "3.12.7"
  }
 },
 "nbformat": 4,
 "nbformat_minor": 5
}
