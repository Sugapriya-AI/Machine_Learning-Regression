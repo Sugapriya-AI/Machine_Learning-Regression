{
 "cells": [
  {
   "cell_type": "markdown",
   "id": "e6b2a9df-bb96-4fb1-90cd-72c63bf12d54",
   "metadata": {},
   "source": [
    "##### PHASE2 - DEPLOYMENT"
   ]
  },
  {
   "cell_type": "code",
   "execution_count": 1,
   "id": "2e141ab4-28f3-4dfc-80e1-e2dd5d109d9b",
   "metadata": {},
   "outputs": [],
   "source": [
    "import pickle\n",
    "import pandas as pd"
   ]
  },
  {
   "cell_type": "markdown",
   "id": "666a50a3-6baf-4916-9ba0-d36e85a0f140",
   "metadata": {},
   "source": [
    "- import pickle: Makes the pickle module’s functions (like pickle.load and pickle.dump) available in script."
   ]
  },
  {
   "cell_type": "code",
   "execution_count": 3,
   "id": "713738ee-cb53-49a2-9be3-e28680a1b456",
   "metadata": {},
   "outputs": [],
   "source": [
    "# 1. LOAD THE SAVED MODEL\n",
    "loaded_model = pickle.load(open(\"Finalized_model-SLR.sav\", 'rb'))\n",
    "input_data = pd.DataFrame({'Years_of_Experience': [13]})\n",
    "result = loaded_model.predict(input_data)"
   ]
  },
  {
   "cell_type": "code",
   "execution_count": 5,
   "id": "0c37c026-919e-4ee7-b1ae-740f9e8c1152",
   "metadata": {},
   "outputs": [
    {
     "data": {
      "text/plain": [
       "array([[148463.63763102]])"
      ]
     },
     "execution_count": 5,
     "metadata": {},
     "output_type": "execute_result"
    }
   ],
   "source": [
    "result"
   ]
  },
  {
   "cell_type": "code",
   "execution_count": 7,
   "id": "781800c6-1d7f-4e8d-aaea-4fc74c9c12c5",
   "metadata": {},
   "outputs": [],
   "source": [
    "# 2. GET INPUTS\n",
    "input_data = pd.DataFrame({'Years_of_Experience': [0]})\n",
    "result = loaded_model.predict(input_data)"
   ]
  },
  {
   "cell_type": "code",
   "execution_count": 9,
   "id": "37dc9716-7b7e-43ea-a851-35a619a66ff3",
   "metadata": {},
   "outputs": [
    {
     "data": {
      "text/plain": [
       "array([[26772.24717197]])"
      ]
     },
     "execution_count": 9,
     "metadata": {},
     "output_type": "execute_result"
    }
   ],
   "source": [
    "# 3. PREDICTS \n",
    "#Here predicts the zero experience employee salary value\n",
    "result"
   ]
  },
  {
   "cell_type": "code",
   "execution_count": null,
   "id": "d29b92f3-8454-4a43-adf5-22d8539ccb84",
   "metadata": {},
   "outputs": [],
   "source": []
  }
 ],
 "metadata": {
  "kernelspec": {
   "display_name": "Python [conda env:base] *",
   "language": "python",
   "name": "conda-base-py"
  },
  "language_info": {
   "codemirror_mode": {
    "name": "ipython",
    "version": 3
   },
   "file_extension": ".py",
   "mimetype": "text/x-python",
   "name": "python",
   "nbconvert_exporter": "python",
   "pygments_lexer": "ipython3",
   "version": "3.12.7"
  }
 },
 "nbformat": 4,
 "nbformat_minor": 5
}
