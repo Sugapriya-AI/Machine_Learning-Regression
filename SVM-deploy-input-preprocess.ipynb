{
 "cells": [
  {
   "cell_type": "code",
   "execution_count": 1,
   "id": "ad621e99-71ca-4557-a19b-7ae75e362586",
   "metadata": {},
   "outputs": [],
   "source": [
    "import pickle"
   ]
  },
  {
   "cell_type": "code",
   "execution_count": 2,
   "id": "6ef1f3f9-99ca-4959-a80b-93acb121281d",
   "metadata": {},
   "outputs": [],
   "source": [
    "import pandas as pd"
   ]
  },
  {
   "cell_type": "code",
   "execution_count": 19,
   "id": "d2ee238a-0895-468f-9628-df96a42c9df7",
   "metadata": {},
   "outputs": [],
   "source": [
    "dataset=pd.read_csv(\"insurance_pre.csv\")\n",
    "dataset=pd.get_dummies(dataset,drop_first=True)\n",
    "independent=dataset[['age', 'bmi', 'children','sex_male','smoker_yes']]\n",
    "dependent=dataset[['charges']]"
   ]
  },
  {
   "cell_type": "code",
   "execution_count": 21,
   "id": "79ce35b0-e5f7-4032-89e0-76d94789f1f6",
   "metadata": {},
   "outputs": [],
   "source": [
    "from sklearn.preprocessing import StandardScaler\n",
    "sc=StandardScaler()\n",
    "independent=sc.fit_transform(independent)"
   ]
  },
  {
   "cell_type": "code",
   "execution_count": 23,
   "id": "33760d81-ffa4-4dd0-9ffc-380328256774",
   "metadata": {},
   "outputs": [
    {
     "name": "stderr",
     "output_type": "stream",
     "text": [
      "/opt/anaconda3/lib/python3.12/site-packages/sklearn/base.py:493: UserWarning: X does not have valid feature names, but StandardScaler was fitted with feature names\n",
      "  warnings.warn(\n"
     ]
    }
   ],
   "source": [
    "preinput=sc.transform([[32,23,1,1,1]])"
   ]
  },
  {
   "cell_type": "code",
   "execution_count": 25,
   "id": "66a68479-fcf0-4076-a119-dff068ff3c35",
   "metadata": {},
   "outputs": [
    {
     "data": {
      "text/plain": [
       "array([[-0.51314879, -1.25713795, -0.07876719,  0.98959079,  1.97058663]])"
      ]
     },
     "execution_count": 25,
     "metadata": {},
     "output_type": "execute_result"
    }
   ],
   "source": [
    "preinput"
   ]
  },
  {
   "cell_type": "code",
   "execution_count": 27,
   "id": "e3166558-7e70-47e2-9deb-23d444c6197e",
   "metadata": {},
   "outputs": [],
   "source": [
    "loaded_model = pickle.load(open(\"Finalized_model-SVM-Grid-preprocess_input.sav\", 'rb'))\n",
    "result = loaded_model.predict(preinput)"
   ]
  },
  {
   "cell_type": "code",
   "execution_count": 29,
   "id": "04c050d6-a338-40cf-a2c2-736fd5683232",
   "metadata": {},
   "outputs": [
    {
     "data": {
      "text/plain": [
       "array([15145.76990933])"
      ]
     },
     "execution_count": 29,
     "metadata": {},
     "output_type": "execute_result"
    }
   ],
   "source": [
    "result"
   ]
  },
  {
   "cell_type": "code",
   "execution_count": null,
   "id": "32981bc7-9ac8-4d55-8435-e21bb47f9a38",
   "metadata": {},
   "outputs": [],
   "source": []
  }
 ],
 "metadata": {
  "kernelspec": {
   "display_name": "Python [conda env:base] *",
   "language": "python",
   "name": "conda-base-py"
  },
  "language_info": {
   "codemirror_mode": {
    "name": "ipython",
    "version": 3
   },
   "file_extension": ".py",
   "mimetype": "text/x-python",
   "name": "python",
   "nbconvert_exporter": "python",
   "pygments_lexer": "ipython3",
   "version": "3.12.7"
  }
 },
 "nbformat": 4,
 "nbformat_minor": 5
}
