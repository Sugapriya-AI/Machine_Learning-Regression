{
 "cells": [
  {
   "cell_type": "code",
   "execution_count": 1,
   "id": "5e2d879e-7186-4a34-bde3-080fe3f56339",
   "metadata": {},
   "outputs": [],
   "source": [
    "import pickle\n",
    "import pandas as pd"
   ]
  },
  {
   "cell_type": "code",
   "execution_count": 3,
   "id": "e7029c6a-1fb7-4f8f-ab36-20215827dcb7",
   "metadata": {},
   "outputs": [],
   "source": [
    "# LOAD THE SAVED MODEL\n",
    "loaded_model = pickle.load(open(\"Finalized_model-MLR.sav\", 'rb'))\n",
    "input_data = pd.DataFrame({ 'R&D Spend': [1234], 'Administration': [345], 'Marketing Spend': [4565], 'State_Florida': [1], 'State_New York': [0]})\n",
    "result = loaded_model.predict(input_data)"
   ]
  },
  {
   "cell_type": "code",
   "execution_count": 5,
   "id": "27d4bc04-35c2-44c4-93d4-c3a9f843f690",
   "metadata": {},
   "outputs": [
    {
     "data": {
      "text/plain": [
       "array([[43994.79745873]])"
      ]
     },
     "execution_count": 5,
     "metadata": {},
     "output_type": "execute_result"
    }
   ],
   "source": [
    "result"
   ]
  },
  {
   "cell_type": "code",
   "execution_count": null,
   "id": "f6069c78-596a-4e7e-b679-2a8bbf96a7b2",
   "metadata": {},
   "outputs": [],
   "source": []
  }
 ],
 "metadata": {
  "kernelspec": {
   "display_name": "Python [conda env:base] *",
   "language": "python",
   "name": "conda-base-py"
  },
  "language_info": {
   "codemirror_mode": {
    "name": "ipython",
    "version": 3
   },
   "file_extension": ".py",
   "mimetype": "text/x-python",
   "name": "python",
   "nbconvert_exporter": "python",
   "pygments_lexer": "ipython3",
   "version": "3.12.7"
  }
 },
 "nbformat": 4,
 "nbformat_minor": 5
}
