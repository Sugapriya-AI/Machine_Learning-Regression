{
 "cells": [
  {
   "cell_type": "code",
   "execution_count": 1,
   "id": "4fb5ddd3-d7b8-496a-a0bd-aa1543f79008",
   "metadata": {},
   "outputs": [],
   "source": [
    "import pickle"
   ]
  },
  {
   "cell_type": "code",
   "execution_count": 5,
   "id": "00d24bf4-9f49-471c-befb-a2995f31f72e",
   "metadata": {},
   "outputs": [],
   "source": [
    "import pandas as pd"
   ]
  },
  {
   "cell_type": "code",
   "execution_count": 11,
   "id": "f87eb81c-49e2-491c-a31b-d5c204a205f1",
   "metadata": {},
   "outputs": [],
   "source": [
    "# LOAD THE SAVED MODEL\n",
    "loaded_model = pickle.load(open(\"Finalized_model-SVM.sav\", 'rb'))\n",
    "input_data = pd.DataFrame({ 'R&D Spend': [1234], 'Administration': [345], 'Marketing Spend': [4565], 'State_Florida': [1], 'State_New York': [0]})\n",
    "result = loaded_model.predict(input_data)"
   ]
  },
  {
   "cell_type": "code",
   "execution_count": 13,
   "id": "ac838af9-c6b9-4ca2-9bd4-c1dffabe564e",
   "metadata": {},
   "outputs": [
    {
     "data": {
      "text/plain": [
       "array([39001.78744707])"
      ]
     },
     "execution_count": 13,
     "metadata": {},
     "output_type": "execute_result"
    }
   ],
   "source": [
    "result"
   ]
  },
  {
   "cell_type": "code",
   "execution_count": null,
   "id": "0171d475-77db-42cb-8c34-de45022fc3e4",
   "metadata": {},
   "outputs": [],
   "source": []
  }
 ],
 "metadata": {
  "kernelspec": {
   "display_name": "Python [conda env:base] *",
   "language": "python",
   "name": "conda-base-py"
  },
  "language_info": {
   "codemirror_mode": {
    "name": "ipython",
    "version": 3
   },
   "file_extension": ".py",
   "mimetype": "text/x-python",
   "name": "python",
   "nbconvert_exporter": "python",
   "pygments_lexer": "ipython3",
   "version": "3.12.7"
  }
 },
 "nbformat": 4,
 "nbformat_minor": 5
}
