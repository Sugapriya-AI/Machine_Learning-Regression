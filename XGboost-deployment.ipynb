{
 "cells": [
  {
   "cell_type": "code",
   "execution_count": 1,
   "id": "3ef5ea3a-17aa-4eed-a3ca-0e243710bd68",
   "metadata": {},
   "outputs": [],
   "source": [
    "import pickle"
   ]
  },
  {
   "cell_type": "code",
   "execution_count": 2,
   "id": "f4295753-0687-4094-804d-9f52e49d53fd",
   "metadata": {},
   "outputs": [],
   "source": [
    "import pandas as pd"
   ]
  },
  {
   "cell_type": "code",
   "execution_count": 3,
   "id": "9d62fd13-4ae2-4929-9b69-838c6e6dd37e",
   "metadata": {},
   "outputs": [],
   "source": [
    "# LOAD THE SAVED MODEL\n",
    "loaded_model=pickle.load(open(\"Finalized_model-XGboost.sav\", 'rb'))\n",
    "input_data = pd.DataFrame({ 'age':[32], 'bmi':[23], 'children':[1],'sex_male':[False], 'smoker_yes':[False]})\n",
    "result = loaded_model.predict(input_data)"
   ]
  },
  {
   "cell_type": "code",
   "execution_count": 4,
   "id": "636af9bc-42eb-4cb9-9038-78540e494ef8",
   "metadata": {},
   "outputs": [
    {
     "data": {
      "text/plain": [
       "array([5755.2544], dtype=float32)"
      ]
     },
     "execution_count": 4,
     "metadata": {},
     "output_type": "execute_result"
    }
   ],
   "source": [
    "result"
   ]
  },
  {
   "cell_type": "code",
   "execution_count": null,
   "id": "e8e66743-bb11-4080-8797-98ff560e9467",
   "metadata": {},
   "outputs": [],
   "source": []
  }
 ],
 "metadata": {
  "kernelspec": {
   "display_name": "Python [conda env:base] *",
   "language": "python",
   "name": "conda-base-py"
  },
  "language_info": {
   "codemirror_mode": {
    "name": "ipython",
    "version": 3
   },
   "file_extension": ".py",
   "mimetype": "text/x-python",
   "name": "python",
   "nbconvert_exporter": "python",
   "pygments_lexer": "ipython3",
   "version": "3.12.7"
  }
 },
 "nbformat": 4,
 "nbformat_minor": 5
}
