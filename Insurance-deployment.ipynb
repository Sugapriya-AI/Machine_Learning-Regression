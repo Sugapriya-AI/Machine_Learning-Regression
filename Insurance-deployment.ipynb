{
 "cells": [
  {
   "cell_type": "code",
   "execution_count": 1,
   "id": "5bdc9816-8db8-4b2b-9475-07fdcc426e2d",
   "metadata": {},
   "outputs": [],
   "source": [
    "import pickle"
   ]
  },
  {
   "cell_type": "code",
   "execution_count": 3,
   "id": "81d98c8d-6136-4298-aed8-b90eb6d41e2c",
   "metadata": {},
   "outputs": [],
   "source": [
    "import pandas as pd"
   ]
  },
  {
   "cell_type": "code",
   "execution_count": 21,
   "id": "a9c67312-f5d4-4c33-846f-d3505adf022c",
   "metadata": {},
   "outputs": [],
   "source": [
    "# LOAD THE SAVED MODEL\n",
    "loaded_model=pickle.load(open(\"Finalized_model-Insurance.sav\", 'rb'))\n",
    "input_data = pd.DataFrame({ 'age':[32], 'bmi':[23], 'children':[1],'sex_male':[False], 'smoker_yes':[False]})\n",
    "result = loaded_model.predict(input_data)"
   ]
  },
  {
   "cell_type": "code",
   "execution_count": 23,
   "id": "f71218c2-b97d-4732-8b73-0049a10581f7",
   "metadata": {},
   "outputs": [
    {
     "data": {
      "text/plain": [
       "array([5488.7235216])"
      ]
     },
     "execution_count": 23,
     "metadata": {},
     "output_type": "execute_result"
    }
   ],
   "source": [
    "result"
   ]
  },
  {
   "cell_type": "code",
   "execution_count": null,
   "id": "4205f878-fe54-4ba1-9ff6-f03480022fac",
   "metadata": {},
   "outputs": [],
   "source": []
  }
 ],
 "metadata": {
  "kernelspec": {
   "display_name": "Python [conda env:base] *",
   "language": "python",
   "name": "conda-base-py"
  },
  "language_info": {
   "codemirror_mode": {
    "name": "ipython",
    "version": 3
   },
   "file_extension": ".py",
   "mimetype": "text/x-python",
   "name": "python",
   "nbconvert_exporter": "python",
   "pygments_lexer": "ipython3",
   "version": "3.12.7"
  }
 },
 "nbformat": 4,
 "nbformat_minor": 5
}
